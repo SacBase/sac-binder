{
 "cells": [
  {
   "cell_type": "markdown",
   "id": "1642fd01",
   "metadata": {},
   "source": [
    "1. Evaluating Expressions: type an expression then hit `shift-return`; e.g.:"
   ]
  },
  {
   "cell_type": "code",
   "execution_count": null,
   "id": "e4f8aa9b",
   "metadata": {},
   "outputs": [],
   "source": [
    "Array::iota (10)"
   ]
  },
  {
   "cell_type": "markdown",
   "id": "c5cafefe",
   "metadata": {},
   "source": [
    "2. Defining Variables: type `<var> = <expr> ;` then hit `shift-return`; e.g.:"
   ]
  },
  {
   "cell_type": "code",
   "execution_count": null,
   "id": "791fe2d8",
   "metadata": {},
   "outputs": [],
   "source": [
    "v = Array::iota (10);"
   ]
  },
  {
   "cell_type": "markdown",
   "id": "0afeebaf",
   "metadata": {},
   "source": [
    "These variables can be referred to in expressions, e.g.:"
   ]
  },
  {
   "cell_type": "code",
   "execution_count": null,
   "id": "57f3ba3d",
   "metadata": {},
   "outputs": [],
   "source": [
    "v Array::+ 1"
   ]
  },
  {
   "cell_type": "markdown",
   "id": "3b4c646e",
   "metadata": {},
   "source": [
    "3. *Using Modules*: type `use <module name>: all;` then hit `shit-return`; e.g."
   ]
  },
  {
   "cell_type": "code",
   "execution_count": null,
   "id": "1397d69a",
   "metadata": {},
   "outputs": [],
   "source": [
    "use Array: all;"
   ]
  },
  {
   "cell_type": "markdown",
   "id": "952274c7",
   "metadata": {},
   "source": [
    "Now, you can refer to all functions in that module without specifying the module name, e.g."
   ]
  },
  {
   "cell_type": "code",
   "execution_count": null,
   "id": "590ed729",
   "metadata": {},
   "outputs": [],
   "source": [
    "iota(8)"
   ]
  },
  {
   "cell_type": "markdown",
   "id": "741d6e03",
   "metadata": {},
   "source": [
    "4. *Defining Functions*: type an entire function definition then hit `shift-return`; e.g.:"
   ]
  },
  {
   "cell_type": "code",
   "execution_count": null,
   "id": "3d190d1b",
   "metadata": {},
   "outputs": [],
   "source": [
    "int[*] inc (int[*] a)\n",
    "{\n",
    "   res = { iv -> a[iv] +1 };\n",
    "   return res;\n",
    "}"
   ]
  },
  {
   "cell_type": "markdown",
   "id": "00761da5",
   "metadata": {},
   "source": [
    "Now, you can use this function in expressions as well, e.g.:"
   ]
  },
  {
   "cell_type": "code",
   "execution_count": null,
   "id": "f958aac8",
   "metadata": {},
   "outputs": [],
   "source": [
    "inc (iota(10))"
   ]
  },
  {
   "cell_type": "markdown",
   "id": "26bdb080",
   "metadata": {},
   "source": [
    "You can inspect your code by using `%print` and find further options through `%help`."
   ]
  },
  {
   "cell_type": "code",
   "execution_count": null,
   "id": "b41ca378",
   "metadata": {},
   "outputs": [],
   "source": [
    "%print"
   ]
  }
 ],
 "metadata": {
  "kernelspec": {
   "display_name": "SaC",
   "language": "sac",
   "name": "sac"
  },
  "language_info": {
   "file_extension": ".sac",
   "mimetype": "text/plain",
   "name": "sac"
  }
 },
 "nbformat": 4,
 "nbformat_minor": 5
}
